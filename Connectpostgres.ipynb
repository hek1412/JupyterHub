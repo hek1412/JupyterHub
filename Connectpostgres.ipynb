{
 "cells": [
  {
   "cell_type": "code",
   "execution_count": 1,
   "id": "9a289398-eee7-4194-8145-4a6eb9c9f254",
   "metadata": {},
   "outputs": [
    {
     "name": "stdout",
     "output_type": "stream",
     "text": [
      "Requirement already satisfied: psycopg2-binary in /opt/conda/lib/python3.11/site-packages (2.9.10)\n"
     ]
    }
   ],
   "source": [
    "!pip install psycopg2-binary"
   ]
  },
  {
   "cell_type": "code",
   "execution_count": 2,
   "id": "9b5a1c52-f306-4e57-a37f-13d94506aa6b",
   "metadata": {},
   "outputs": [
    {
     "name": "stdout",
     "output_type": "stream",
     "text": [
      "Таблица test_table успешно создана.\n",
      "Тестовые данные успешно вставлены.\n",
      "Данные из таблицы test_table:\n",
      "id: 1, name: Игорь, value: 100\n",
      "id: 2, name: Артем, value: 200\n",
      "id: 3, name: Петя, value: 300\n",
      "id: 4, name: Влад, value: 400\n",
      "id: 5, name: Саша, value: 500\n",
      "Таблица test_table успешно удалена.\n"
     ]
    }
   ],
   "source": [
    "import psycopg2\n",
    "connect_postgres = {\n",
    "    'dbname': 'postgres_db',\n",
    "    'user': 'postgres',\n",
    "    'password': 'postgres',\n",
    "    'host': 'postgrestest',\n",
    "    'port': '5432'\n",
    "}\n",
    "try:\n",
    "    # соединение с базой данных\n",
    "    connection = psycopg2.connect(**connect_postgres)\n",
    "    cursor = connection.cursor()\n",
    "    \n",
    "    test_table = '''\n",
    "    CREATE TABLE IF NOT EXISTS test_table (\n",
    "        id SERIAL PRIMARY KEY,\n",
    "        name VARCHAR(100),\n",
    "        value INTEGER\n",
    "    );\n",
    "    '''\n",
    "    # Выполняем запрос\n",
    "    cursor.execute(test_table)\n",
    "    connection.commit()\n",
    "    \n",
    "    print(\"Таблица test_table успешно создана.\")\n",
    "    \n",
    "    # наполняем тестовыми данными\n",
    "    test_data = [\n",
    "        ('Игорь', 100),\n",
    "        ('Артем', 200),\n",
    "        ('Петя', 300),\n",
    "        ('Влад', 400),\n",
    "        ('Саша', 500)\n",
    "    ]\n",
    "    \n",
    "    # осуществляем вставку в таблицу\n",
    "    insert_query = '''\n",
    "    INSERT INTO test_table (name, value) VALUES (%s, %s);\n",
    "    '''\n",
    "    \n",
    "    cursor.executemany(insert_query, test_data)\n",
    "    connection.commit()\n",
    "    \n",
    "    print(\"Тестовые данные успешно вставлены.\")\n",
    "    \n",
    "    # вывод данных\n",
    "    select_query = 'SELECT * FROM test_table;'\n",
    "    cursor.execute(select_query)\n",
    "    \n",
    "    # получение всех строк из ответа\n",
    "    records = cursor.fetchall()\n",
    "    \n",
    "    print(\"Данные из таблицы test_table:\")\n",
    "    for row in records:\n",
    "        print(f\"id: {row[0]}, name: {row[1]}, value: {row[2]}\")\n",
    "    connection.commit()   \n",
    "    # теперь удаляем таблицу\n",
    "    drop_table_query = 'DROP TABLE IF EXISTS test_table;'\n",
    "    cursor.execute(drop_table_query)\n",
    "    connection.commit()\n",
    "    \n",
    "    print(\"Таблица test_table успешно удалена.\")\n",
    "    \n",
    "except Exception as error:\n",
    "    print(\"Произошла ошибка:\", error)\n",
    "finally:\n",
    "    if cursor:\n",
    "        cursor.close()\n",
    "    if connection:\n",
    "        connection.close()"
   ]
  },
  {
   "cell_type": "code",
   "execution_count": null,
   "id": "a2b46a48-f2d5-4ee9-b3a2-b067643e2710",
   "metadata": {},
   "outputs": [],
   "source": []
  }
 ],
 "metadata": {
  "kernelspec": {
   "display_name": "Python 3 (ipykernel)",
   "language": "python",
   "name": "python3"
  },
  "language_info": {
   "codemirror_mode": {
    "name": "ipython",
    "version": 3
   },
   "file_extension": ".py",
   "mimetype": "text/x-python",
   "name": "python",
   "nbconvert_exporter": "python",
   "pygments_lexer": "ipython3",
   "version": "3.11.6"
  }
 },
 "nbformat": 4,
 "nbformat_minor": 5
}
